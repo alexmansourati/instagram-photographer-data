{
 "cells": [
  {
   "cell_type": "code",
   "execution_count": 34,
   "metadata": {
    "collapsed": false
   },
   "outputs": [],
   "source": [
    "import requests\n",
    "from bs4 import BeautifulSoup\n",
    "import pandas as pd"
   ]
  },
  {
   "cell_type": "code",
   "execution_count": 24,
   "metadata": {
    "collapsed": true
   },
   "outputs": [],
   "source": [
    "param = {}"
   ]
  },
  {
   "cell_type": "markdown",
   "metadata": {},
   "source": [
    "Retreive instagram credentials from files in this directory"
   ]
  },
  {
   "cell_type": "code",
   "execution_count": 6,
   "metadata": {
    "collapsed": false
   },
   "outputs": [],
   "source": [
    "CLIENT_ID = open('client_id.txt').read()\n",
    "ACCESS_TOKEN = open('access_token.txt').read()"
   ]
  },
  {
   "cell_type": "markdown",
   "metadata": {},
   "source": [
    "Scrape the instagram handles from Time's Instagram Followers To Follow in All 50 States "
   ]
  },
  {
   "cell_type": "code",
   "execution_count": 7,
   "metadata": {
    "collapsed": false
   },
   "outputs": [],
   "source": [
    "url = 'http://time.com/instagram50/'\n",
    "res = requests.get(url)\n",
    "soup = BeautifulSoup(res.text)"
   ]
  },
  {
   "cell_type": "code",
   "execution_count": 8,
   "metadata": {
    "collapsed": false
   },
   "outputs": [],
   "source": [
    "user_names = []\n",
    "for text in soup.find_all('span', \"username\"):\n",
    "    user_names.append(text.string[1:])"
   ]
  },
  {
   "cell_type": "markdown",
   "metadata": {},
   "source": [
    "Add other photographer accounts"
   ]
  },
  {
   "cell_type": "code",
   "execution_count": 9,
   "metadata": {
    "collapsed": true
   },
   "outputs": [],
   "source": [
    "user_names.extend([])"
   ]
  },
  {
   "cell_type": "markdown",
   "metadata": {},
   "source": [
    "Get data available using instagram handles/usernames"
   ]
  },
  {
   "cell_type": "code",
   "execution_count": 10,
   "metadata": {
    "collapsed": false
   },
   "outputs": [],
   "source": [
    "user_ids = []\n",
    "follower_counts = []\n",
    "for user_name in user_names:\n",
    "    url = 'https://api.instagram.com/v1/users/search?q={}&client_id={}'.format(user_name, CLIENT_ID)\n",
    "    res = requests.get(url,params=param)\n",
    "    res = res.json()\n",
    "    user_id = int(res['data'][0]['id'])\n",
    "    user_ids.append(user_id)\n",
    "    \n",
    "    url = 'https://api.instagram.com/v1/users/{}/?access_token={}'.format(user_id, ACCESS_TOKEN)\n",
    "    res = requests.get(url,params=param)\n",
    "    res = res.json()\n",
    "    follower_count = res['data']['counts']['followed_by']\n",
    "    follower_counts.append(follower_count)"
   ]
  },
  {
   "cell_type": "code",
   "execution_count": 11,
   "metadata": {
    "collapsed": false
   },
   "outputs": [],
   "source": [
    "id_follower_counts = dict(zip(user_ids, follower_counts))"
   ]
  },
  {
   "cell_type": "markdown",
   "metadata": {},
   "source": [
    "Clean up and put in pandas dataframe"
   ]
  },
  {
   "cell_type": "code",
   "execution_count": 12,
   "metadata": {
    "collapsed": false
   },
   "outputs": [],
   "source": [
    "photo_details = []\n",
    "for user_id in user_ids:\n",
    "    url = 'https://api.instagram.com/v1/users/{}/media/recent/?access_token={}'.format(user_id, ACCESS_TOKEN)\n",
    "    res = requests.get(url,params=param)\n",
    "    res = res.json()\n",
    "    \n",
    "    for i in range(0, 20):\n",
    "        post = res['data'][i]\n",
    "        like_count = post['likes']['count']\n",
    "        image_url = post['images']['standard_resolution']['url']\n",
    "        created_at = post['created_time']\n",
    "        tag_count = len(post['users_in_photo'])\n",
    "        post_type = post['type']\n",
    "        location = post['location']\n",
    "        if location:\n",
    "            if 'name' in location.keys():\n",
    "                location = location['name']\n",
    "        photo_details.append({'user_id': user_id, \n",
    "                              'like_count': like_count, \n",
    "                              'image_url': image_url, \n",
    "                              'created_time': created_at,\n",
    "                              'tag_count': tag_count,\n",
    "                              'post_type': post_type,\n",
    "                              'location': location\n",
    "                             })"
   ]
  },
  {
   "cell_type": "code",
   "execution_count": 13,
   "metadata": {
    "collapsed": false
   },
   "outputs": [],
   "source": [
    "photo_details = pd.DataFrame(photo_details)"
   ]
  },
  {
   "cell_type": "markdown",
   "metadata": {},
   "source": [
    "Clean and add columns"
   ]
  },
  {
   "cell_type": "code",
   "execution_count": 14,
   "metadata": {
    "collapsed": false
   },
   "outputs": [],
   "source": [
    "photo_details['created_time'] = pd.to_datetime(photo_details.created_time.astype(int), unit='s')"
   ]
  },
  {
   "cell_type": "code",
   "execution_count": 17,
   "metadata": {
    "collapsed": false,
    "scrolled": true
   },
   "outputs": [],
   "source": [
    "def scale_like_counts_relative_to_account(row):\n",
    "    photo_like_count = row.like_count\n",
    "    account_photo_likes = photo_details[photo_details.user_id == row.user_id].like_count\n",
    "    photo_like_count *= 1.0 / (account_photo_likes.max() - account_photo_likes.min())\n",
    "    photo_like_count -= account_photo_likes.min() * (1.0 / (account_photo_likes.max() - account_photo_likes.min()))\n",
    "    \n",
    "    return photo_like_count\n",
    "\n",
    "photo_details['scaled_likes'] = photo_details.apply(scale_like_counts_relative_to_account, axis=1)"
   ]
  },
  {
   "cell_type": "code",
   "execution_count": 18,
   "metadata": {
    "collapsed": true
   },
   "outputs": [],
   "source": [
    "def likes_per_follower(row):\n",
    "    return float(row.like_count)/id_follower_counts[row.user_id]\n",
    "\n",
    "photo_details['likes_per_follower'] = photo_details.apply(likes_per_follower, axis=1)"
   ]
  },
  {
   "cell_type": "code",
   "execution_count": 19,
   "metadata": {
    "collapsed": true
   },
   "outputs": [],
   "source": [
    "def location_exists(row):\n",
    "    if row.location:\n",
    "        return True\n",
    "    return False\n",
    "\n",
    "photo_details['location_exists'] = photo_details.apply(location_exists, axis = 1)"
   ]
  },
  {
   "cell_type": "code",
   "execution_count": 20,
   "metadata": {
    "collapsed": false
   },
   "outputs": [],
   "source": [
    "def tags_exist(row):\n",
    "    if row.tag_count > 0:\n",
    "        return True\n",
    "    return False\n",
    "\n",
    "photo_details['tags_exist'] = photo_details.apply(tags_exist, axis = 1)"
   ]
  },
  {
   "cell_type": "code",
   "execution_count": 21,
   "metadata": {
    "collapsed": false
   },
   "outputs": [],
   "source": [
    "def hour_of_day(row):\n",
    "    return row.created_time.hour\n",
    "\n",
    "def day_of_week(row):\n",
    "    return row.created_time.weekday()\n",
    "\n",
    "photo_details['hour_of_day'] = photo_details.apply(hour_of_day, axis=1)\n",
    "photo_details['day_of_week'] = photo_details.apply(day_of_week, axis=1)"
   ]
  }
 ],
 "metadata": {
  "kernelspec": {
   "display_name": "Python 2",
   "language": "python",
   "name": "python2"
  },
  "language_info": {
   "codemirror_mode": {
    "name": "ipython",
    "version": 2
   },
   "file_extension": ".py",
   "mimetype": "text/x-python",
   "name": "python",
   "nbconvert_exporter": "python",
   "pygments_lexer": "ipython2",
   "version": "2.7.10"
  }
 },
 "nbformat": 4,
 "nbformat_minor": 0
}
